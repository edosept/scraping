{
 "cells": [
  {
   "cell_type": "markdown",
   "metadata": {
    "colab_type": "text",
    "id": "s2y22iqDzwhV"
   },
   "source": [
    "# Scraping"
   ]
  },
  {
   "cell_type": "markdown",
   "metadata": {},
   "source": [
    "In theory, web scraping is the practice of collecting data, then parsing the data to extract the necessary information."
   ]
  },
  {
   "cell_type": "markdown",
   "metadata": {},
   "source": [
    "`scraping with Beautiful Soup 4`"
   ]
  },
  {
   "cell_type": "code",
   "execution_count": 1,
   "metadata": {
    "ExecuteTime": {
     "end_time": "2020-08-24T14:06:22.453582Z",
     "start_time": "2020-08-24T14:06:21.712299Z"
    },
    "colab": {},
    "colab_type": "code",
    "id": "J6UiEVLLzwhX"
   },
   "outputs": [],
   "source": [
    "import requests\n",
    "from bs4 import BeautifulSoup"
   ]
  },
  {
   "cell_type": "markdown",
   "metadata": {
    "colab_type": "text",
    "id": "6viDhKqGzwiZ"
   },
   "source": [
    "# Article Scraping"
   ]
  },
  {
   "cell_type": "code",
   "execution_count": 2,
   "metadata": {
    "ExecuteTime": {
     "end_time": "2020-08-24T14:06:22.966996Z",
     "start_time": "2020-08-24T14:06:22.453582Z"
    },
    "colab": {},
    "colab_type": "code",
    "id": "PMMEk5-3zwib"
   },
   "outputs": [],
   "source": [
    "url = \"https://historia.id/histeria/articles/ketika-tas-sukarno-digondol-maling-v5b1g\"\n",
    "page = requests.get(url)"
   ]
  },
  {
   "cell_type": "code",
   "execution_count": 3,
   "metadata": {
    "ExecuteTime": {
     "end_time": "2020-08-24T14:06:23.012720Z",
     "start_time": "2020-08-24T14:06:22.966996Z"
    },
    "colab": {},
    "colab_type": "code",
    "id": "SsRnPSAvzwip"
   },
   "outputs": [],
   "source": [
    "soup = BeautifulSoup(page.content, \"html.parser\")"
   ]
  },
  {
   "cell_type": "code",
   "execution_count": 4,
   "metadata": {
    "ExecuteTime": {
     "end_time": "2020-08-24T14:06:23.164324Z",
     "start_time": "2020-08-24T14:06:23.012720Z"
    },
    "colab": {
     "base_uri": "https://localhost:8080/",
     "height": 34
    },
    "colab_type": "code",
    "executionInfo": {
     "elapsed": 26443,
     "status": "ok",
     "timestamp": 1588498056405,
     "user": {
      "displayName": "Edo Septian",
      "photoUrl": "https://lh3.googleusercontent.com/a-/AOh14Gh46t-jaOjIXe6NPakv6dZYr0_ESnDxoThmqkSWGQ=s64",
      "userId": "01836774562051920989"
     },
     "user_tz": -420
    },
    "id": "F7K28VH3zwi3",
    "outputId": "579dba24-11d6-467c-c51e-eff172aad992"
   },
   "outputs": [
    {
     "data": {
      "text/plain": [
       "'Ketika Tas Sukarno Digondol Maling'"
      ]
     },
     "execution_count": 4,
     "metadata": {},
     "output_type": "execute_result"
    }
   ],
   "source": [
    "headline = soup.find(\"h1\").get_text()\n",
    "headline"
   ]
  },
  {
   "cell_type": "code",
   "execution_count": 5,
   "metadata": {
    "ExecuteTime": {
     "end_time": "2020-08-24T14:06:23.356331Z",
     "start_time": "2020-08-24T14:06:23.164324Z"
    },
    "colab": {
     "base_uri": "https://localhost:8080/",
     "height": 54
    },
    "colab_type": "code",
    "executionInfo": {
     "elapsed": 26077,
     "status": "ok",
     "timestamp": 1588498056409,
     "user": {
      "displayName": "Edo Septian",
      "photoUrl": "https://lh3.googleusercontent.com/a-/AOh14Gh46t-jaOjIXe6NPakv6dZYr0_ESnDxoThmqkSWGQ=s64",
      "userId": "01836774562051920989"
     },
     "user_tz": -420
    },
    "id": "Fe3kAA4YzwjM",
    "outputId": "9c70231c-6a31-439c-dd15-d0b6cb4f7bc3"
   },
   "outputs": [
    {
     "data": {
      "text/plain": [
       "'Selepas dari pengasingan di Bengkulu pada awal Maret 1942, Belanda mencoba untuk membawa Sukarno dan Inggit Garnasih ke Australia. Hal itu terpaksa dilakukan karena pihak Belanda khawatir jika pemimpin rakyat Indonesia tersebut akan digunakan sebagai propagandis oleh bala tentara Dai Nippon. Namun dalam kenyataannya kekuatan militer KNIL di Sumatra tak berdaya saat harus berhadapan dengan Tentara Ke-25 Angkatan Darat Kekaisaran Jepang. Alih-alih menyelamatkan Sukarno dan membawanya ke Australia, mereka justru sibuk menyelamatkan dirinya masing-masing. “Mereka seperti pengecut: lari terpontang-panting…Dan membiarkanku tinggal. Ini adalah kesalahan besar dari mereka,” ungkap Sukarno dalam otobiografinya yang disusun oleh Cindy Adams, Bung Karno Pejambung Lidah Rakjat Indonesia. Sukarno dan seluruh keluarganya lantas terdampar di Padang. Untuk sementara mereka tinggal di rumah salah seorang kenalan baik Sukarno bernama Woworuntu. Dan seperti yang ditakutkan oleh pihak Belanda, militer Jepang ternyata benar-benar mendatangi Sukarno dan mengundangnya untuk datang ke markas besar mereka di Bukittinggi. Pimpinan tentara Jepang Kolonel Fujiyama mengajak Sukarno untuk membantu mereka selama bercokol di Hindia Belanda. Sebaliknya, Sukarno sendiri memiliki pemikiran jika dia pun\\xa0 harus memanfaatkan Jepang demi kemerdekaan bangsanya. Maka terbentuklah kesepakatan antara Kolonel Fujiyama dengan Sukarno. Suatu hari Sukarno mendengar berita bahwa seorang kawan baiknya bernama Anwar Sutan Saidi telah ditangkap Kenpeitai (Polisi Militer Angkatan Darat Jepang) di Bukittinggi. Anwar dituduh telah bersekongkol akan melawan kekuasaan bala tentara Jepang. Demi menolong Anwar, Sukarno memutuskan untuk menghadap Kolonel Fujiyama. Begitu sampai di Bukittinggi, Sukarno lantas menuju rumah Munadji di Jalan Syekh Bantam. Di rumah salah seorang kawan Minang-nya itu, dia lantas menitipkan tas yang berisi kalung emas dan liontin berlian kepunyaan Inggit Garnasih. Sukarno sendiri lalu bergegas menemui para pembesar militer Jepang di markasnya dan berhasil membebaskan Anwar hari itu juga. Tetapi alangkah kagetnya Sukarno. Usai mengurus pembebasan Anwar, dia menemukan kenyataan tas miliknya raib digondol maling. Munadji dan Anwar yang merasa malu atas kejadian itu lantas meminta pertolongan kepada seorang ulama bernama Inyik Djambek, panggilan hormat orang Bukittinggi kepada Syekh Mohammad Djamil Djambek. Ajaib. Berkat bantuan sang ulama yang masih kerabat dekat dari Mohammad Hatta itu, tas milik Sukarno bisa kembali. Disebutkan, sang maling seorang laki-laki Tionghoa mengembalikan sendiri tas itu lewat cara menaruhnya di sudut suatu sawah. Tas itu kemudian diambil oleh Inyik Djambek dan diserahkan secara langsung olehnya kepada Sukarno. Benarkah pencuri tas itu adalah seorang Tionghoa? Hasjim Ning, salah satu keponakan Hatta meragukan cerita itu. Dalam otobiografinya yang disusun oleh A.A. Navis, Pasang Surut Pengusaha Pejuang, Hasjim pernah mengonfirmasi cerita tersebut kepada orang-orang Bukittinggi yang tahu akan kejadian itu. Jawaban mereka sangat mengejutkan. “Ah yang mencurinya memang orang awak. Karena malu pada Bung Karno, dikatakanlah yang mencurinya orang Cina. Padahal mana berani Cina di sana menjadi pencuri. Apalagi mencuri milik Bung Karno, seorang pemimpin yang sangat dihormati rakyat…” ungkap salah seorang dari mereka. Menurut Hasjim, kejadian sebenarnya adalah begitu mendapat laporan tas milik Bung Karno digondol maling, Inyik Djambek berinsiatif memanggil pimpinan penjahat paling ditakuti di Bukittinggi. Dengan marah, Inyik Djambek menyuruh sang pemimpin dunia hitam itu untuk ikut bertanggungjawab. “Malu awak, tolonglah carikan!” katanya. Merasa segan kepada\\xa0sang ulama dan Bung Karno, \"sang bos\"\\xa0kemudian mencari “maling kelas teri” tersebut. Tidak perlu waktu berjam-jam, orang itu berhasil ditemukan. Persoalan baru datang: seluruh isi tas tersebut sudah terlanjur berpindah tangan kepada para penadah di pasar gelap. “(Baru) dua hari kemudian, kopor itu diserahkan kepada Inyik Djambek lengkap beserta isinya,” ungkap Hasjim. Rupanya keterlambatan itu terjadi karena sang maling harus ekstra keras mengambil kembali barang-barang hasil curiannya itu kepada para penadah.'"
      ]
     },
     "execution_count": 5,
     "metadata": {},
     "output_type": "execute_result"
    }
   ],
   "source": [
    "p_tags = soup.find_all(\"p\")\n",
    "p_tags_text = [p.get_text().strip() for p in p_tags]\n",
    "sentence_list = [sentence for sentence in p_tags_text if not \"\\n\" in sentence]\n",
    "sentence_list = [sentence for sentence in sentence_list if sentence[-1] == \".\"]\n",
    "article = \" \".join(sentence_list)\n",
    "article"
   ]
  },
  {
   "cell_type": "code",
   "execution_count": 6,
   "metadata": {
    "ExecuteTime": {
     "end_time": "2020-08-24T14:06:23.418680Z",
     "start_time": "2020-08-24T14:06:23.356331Z"
    },
    "colab": {},
    "colab_type": "code",
    "id": "K8CmIsIQzwjX"
   },
   "outputs": [],
   "source": [
    "def scrap_article(url):\n",
    "    page = requests.get(url)\n",
    "    soup = BeautifulSoup(page.content, \"html.parser\")\n",
    "    headline = soup.find(\"h1\").get_text()\n",
    "    p_tags = soup.find_all(\"p\")\n",
    "    p_tags_text = [p.get_text().strip() for p in p_tags]\n",
    "    sentence_list = [sentence for sentence in p_tags_text if not \"\\n\" in sentence]\n",
    "    sentence_list = [sentence for sentence in sentence_list if sentence[-1] == \".\"]\n",
    "    article = \" \".join(sentence_list)\n",
    "    return headline, article"
   ]
  },
  {
   "cell_type": "code",
   "execution_count": 7,
   "metadata": {
    "ExecuteTime": {
     "end_time": "2020-08-24T14:06:23.871286Z",
     "start_time": "2020-08-24T14:06:23.418680Z"
    },
    "colab": {},
    "colab_type": "code",
    "id": "2Ju_Z-Xtzwji"
   },
   "outputs": [],
   "source": [
    "headline, article = scrap_article(\"https://historia.id/sains/articles/itb-rayakan-seabad-th-bandung-DpgkZ\")"
   ]
  },
  {
   "cell_type": "code",
   "execution_count": 8,
   "metadata": {
    "ExecuteTime": {
     "end_time": "2020-08-24T14:06:23.883004Z",
     "start_time": "2020-08-24T14:06:23.871286Z"
    },
    "colab": {
     "base_uri": "https://localhost:8080/",
     "height": 34
    },
    "colab_type": "code",
    "executionInfo": {
     "elapsed": 24803,
     "status": "ok",
     "timestamp": 1588498056417,
     "user": {
      "displayName": "Edo Septian",
      "photoUrl": "https://lh3.googleusercontent.com/a-/AOh14Gh46t-jaOjIXe6NPakv6dZYr0_ESnDxoThmqkSWGQ=s64",
      "userId": "01836774562051920989"
     },
     "user_tz": -420
    },
    "id": "pypkN7bezwjv",
    "outputId": "d1ff7f1d-4ba3-4b6b-badb-063e3cc0dbc3"
   },
   "outputs": [
    {
     "data": {
      "text/plain": [
       "'ITB Rayakan Seabad TH Bandung'"
      ]
     },
     "execution_count": 8,
     "metadata": {},
     "output_type": "execute_result"
    }
   ],
   "source": [
    "headline"
   ]
  },
  {
   "cell_type": "code",
   "execution_count": 9,
   "metadata": {
    "ExecuteTime": {
     "end_time": "2020-08-24T14:06:24.026623Z",
     "start_time": "2020-08-24T14:06:23.883559Z"
    },
    "colab": {
     "base_uri": "https://localhost:8080/",
     "height": 54
    },
    "colab_type": "code",
    "executionInfo": {
     "elapsed": 23908,
     "status": "ok",
     "timestamp": 1588498056419,
     "user": {
      "displayName": "Edo Septian",
      "photoUrl": "https://lh3.googleusercontent.com/a-/AOh14Gh46t-jaOjIXe6NPakv6dZYr0_ESnDxoThmqkSWGQ=s64",
      "userId": "01836774562051920989"
     },
     "user_tz": -420
    },
    "id": "I78jSBTdzwj6",
    "outputId": "c3db9413-a742-4527-f4d8-367855e08ecb"
   },
   "outputs": [
    {
     "data": {
      "text/plain": [
       "'Perang Dunia pertama menghalangi orang Hindia Belanda melanjutkan pendidikan tinggi ke Belanda, khususnya ke Technische Hogeschool (TH) Delft. Namun, perang juga telah mengubah pandangan orang Belanda, yang semula berpendapat bahwa Hindia Belanda belum siap memiliki perguruan tinggi. Institut berhasil mengumpulkan uang sebesar 3.000.000 gulden untuk membiayai pendidikan teknik di Hindia Belanda. Semula mereka berpikir hendak membuka sekolah teknik menengah. Namun, menurut Adjat Sakri (ed.) dalam Dari TH ke ITB: Kenang-kengangan Lustrum Keempat, 2 Maret 1979, ketika delegasi Committee Indie Weerbaar (Komite Pertahanan Hindia) berkunjung ke Belanda pada 1917, mendesak keras meminta sekolah tinggi teknik.\\xa0Raad van Beheer menyetujuinya. Dukungan pemerintah kolonial Belanda terhadap pendirian sekolah tinggi teknik disampaikan oleh Mr. K.F. Creutzberg, direktur Pendidikan dan Agama, dalam pidato di Volksraad (Dewan Rakyat) pada 1918. TH Bandung ditutup pada 1942 ketika Belanda dikalahkan Jepang. Pemerintah militer Jepang kemudian mendirikan Bandung Koo Gyoo Dai Gaku pada 1944. Setelah Indonesia merdeka pada 1945, Bandung Koo Gyoo Dai Gaku diambil alih dan diubah menjadi Sekolah Tinggi Teknik (STT) Bandung yang dipimpin oleh Prof. Ir. Roosseno. Tak lama berjalan, STT Bandung mengungsi ke Yogyakarta karena terjadi perang kemerdekaan melawan Sekutu dan Belanda. STT Bandung dibuka kembali di Yogyakarta pada 17 Februari 1946. Pemrakarsanya adalah Ir. Wreksodiningrat, insinyur teknik sipil pertama Indonesia lulusan TH Delft, Belanda. Dia menggantikan Roosseno sebagai pemimpin STT Bandung pada 1 Maret 1947. STT Bandung diubah menjadi STT Jogjakarta, yang kemudian menjadi Fakultas Teknik Universitas Gadjah Mada. Sementara itu, NICA (Pemerintahan Sipil Hindia Belanda) mendirikan Nood Universiteit (Universitas Darurat) di Jakarta, yang kemudian berubah menjadi Universiteit van Indonesie. Menurut Rahardjo Darmanto Djojodibroto dalam Tradisi Kehidupan Akademik, setelah pengakuan kedaulatan, Universiteit van Indonesie diambil alih pemerintah Republik Indonesia Serikat.\\xa0Universiteit van Indonesie digabungkan dengan Balai Perguruan Tinggi Republik Indonesia menjadi Universiteit Indonesia atau Universitas Indonesia (UI) pada 2 Februari 1950, tanggal ini ditetapkan sebagai dies natalis UI. UI terdiri atas Fakultas Kedokteran, Hukum, Sastra dan Filsafat di Jakarta, Fakultas Kedokteran Gigi di Surabaya, Fakultas Ekonomi di Makassar, Fakultas Teknik di Bandung, dan Fakultas Pertanian di Bogor. Fakultas-fakultas itu kemudian dipisahkan dari induknya, UI. Fakultas Kedokteran Gigi di Surabaya menjadi Universitas Airlangga (1954), Fakultas Ekonomi di Makassar menjadi Universitas Hasanuddin (1956), Fakultas Teknik di Bandung menjadi Institut Teknologi Bandung (1959), dan Fakultas Pertanian di Bogor menjadi Institut Pertanian Bogor (1963).'"
      ]
     },
     "execution_count": 9,
     "metadata": {},
     "output_type": "execute_result"
    }
   ],
   "source": [
    "article"
   ]
  }
 ],
 "metadata": {
  "colab": {
   "collapsed_sections": [],
   "name": "Part 3 - Preprocessing Scrapping using PySpark.ipynb",
   "provenance": []
  },
  "kernelspec": {
   "display_name": "Python [conda env:jcopnlp]",
   "language": "python",
   "name": "conda-env-jcopnlp-py"
  },
  "language_info": {
   "codemirror_mode": {
    "name": "ipython",
    "version": 3
   },
   "file_extension": ".py",
   "mimetype": "text/x-python",
   "name": "python",
   "nbconvert_exporter": "python",
   "pygments_lexer": "ipython3",
   "version": "3.7.6"
  },
  "varInspector": {
   "cols": {
    "lenName": 16,
    "lenType": 16,
    "lenVar": 40
   },
   "kernels_config": {
    "python": {
     "delete_cmd_postfix": "",
     "delete_cmd_prefix": "del ",
     "library": "var_list.py",
     "varRefreshCmd": "print(var_dic_list())"
    },
    "r": {
     "delete_cmd_postfix": ") ",
     "delete_cmd_prefix": "rm(",
     "library": "var_list.r",
     "varRefreshCmd": "cat(var_dic_list()) "
    }
   },
   "types_to_exclude": [
    "module",
    "function",
    "builtin_function_or_method",
    "instance",
    "_Feature"
   ],
   "window_display": false
  }
 },
 "nbformat": 4,
 "nbformat_minor": 1
}
